{
 "cells": [
  {
   "cell_type": "code",
   "execution_count": 118,
   "id": "82c1d460-a6f9-45e0-be32-93474c8e2cfa",
   "metadata": {},
   "outputs": [],
   "source": [
    "# Module Challenge 2"
   ]
  },
  {
   "cell_type": "code",
   "execution_count": 119,
   "id": "b5361574-ad04-4ede-94d3-b27a6a42e144",
   "metadata": {},
   "outputs": [],
   "source": [
    "# Import CSV File \n",
    "from pathlib import Path\n",
    "import csv\n",
    "\n",
    "# Set file path\n",
    "csvpath = Path('budget_data.csv')"
   ]
  },
  {
   "cell_type": "code",
   "execution_count": 144,
   "id": "993bb049-6019-4c06-a963-f3b3fa11d3a7",
   "metadata": {},
   "outputs": [],
   "source": [
    "# Variable to hold PnL\n",
    "PnL = []\n",
    "PnLs = []\n",
    "\n",
    "#Line_num variable\n",
    "line_num = 0"
   ]
  },
  {
   "cell_type": "code",
   "execution_count": 145,
   "id": "e8b0c0e4-dbb3-4104-9956-0295086e59cf",
   "metadata": {},
   "outputs": [
    {
     "name": "stdout",
     "output_type": "stream",
     "text": [
      "<class '_io.TextIOWrapper'>\n",
      "<class '_csv.reader'>\n",
      "['Date', 'Profit/Losses'] <----HEADER\n"
     ]
    }
   ],
   "source": [
    "# Open the input file \n",
    "with open(csvpath, 'r') as csvfile:\n",
    "    \n",
    "    # print the data type of the file\n",
    "    print(type(csvfile))\n",
    "    \n",
    "    # Pass the csv file to the csv.reader() Function\n",
    "    # (with ',' as the delimiter/separator) and return csv reader object\n",
    "    csvreader = csv.reader(csvfile, delimiter=',')\n",
    "        \n",
    "    #print data type of the csvreader\n",
    "    print(type(csvreader))\n",
    "    \n",
    "        # Go to the next row from the start of the file\n",
    "    # (which is often the first row/header) and iterate line_num 1\n",
    "    header = next(csvreader)\n",
    "    line_num += 1\n",
    "    \n",
    "    # Print the header\n",
    "    print(f\"{header} <----HEADER\")\n",
    "    \n",
    "    # Read each row of data after the header\n",
    "    for row in csvreader:\n",
    "                \n",
    "        # Set PnL variable equal to the value in the 2nd column of each row\n",
    "        PnL = int(row[1])\n",
    "        # Append the row PnL value to the list of PnLs\n",
    "        PnLs.append(PnL)"
   ]
  },
  {
   "cell_type": "code",
   "execution_count": 146,
   "id": "bf217b73-0196-410a-81e7-634f7afee2ff",
   "metadata": {
    "tags": []
   },
   "outputs": [
    {
     "name": "stdout",
     "output_type": "stream",
     "text": [
      "Total Number of Months:  86\n"
     ]
    }
   ],
   "source": [
    "# Open CSV File for Months Count\n",
    "with open(csvpath, 'r') as csvfile:\n",
    "     csvreader = csv.reader(csvfile, delimiter=',')\n",
    "\n",
    "# Setting the months counting\n",
    "Total_Months = 0\n",
    "\n",
    "# Iterating through PnL File\n",
    "for PnL in PnLs:\n",
    "    Total_Months += 1\n",
    "    \n",
    "# Printing Count of Months\n",
    "print(\"Total Number of Months: \", Total_Months)"
   ]
  },
  {
   "cell_type": "code",
   "execution_count": 149,
   "id": "7215b224-bbc4-4061-92bc-2bfd24830dae",
   "metadata": {},
   "outputs": [
    {
     "name": "stdout",
     "output_type": "stream",
     "text": [
      "Total Amount of PnL:  38382578\n"
     ]
    }
   ],
   "source": [
    "# Net Total Amount of PnL During Period\n",
    "\n",
    "# Open CSV File for Net Total Amount of PnL\n",
    "with open(csvpath, 'r') as csvfile:\n",
    "     csvreader = csv.reader(csvfile, delimiter=',')\n",
    "\n",
    "# Variable: Total PnL\n",
    "Total_PnL = 0\n",
    "\n",
    "# Iterating through PnL File\n",
    "for PnL in PnLs:\n",
    "    Total_PnL += PnL\n",
    "    \n",
    "# Printing Total Net Total Amount in PnL\n",
    "print(\"Total Amount of PnL: \", Total_PnL)"
   ]
  },
  {
   "cell_type": "code",
   "execution_count": 160,
   "id": "c436c0f8-cd70-4d0d-a6c5-b651d4d614fc",
   "metadata": {},
   "outputs": [
    {
     "name": "stdout",
     "output_type": "stream",
     "text": [
      "0\n",
      "Greatest Increase in PnL:  ['', 0]\n"
     ]
    }
   ],
   "source": [
    "# Open CSV File\n",
    "with open(csvpath, 'r') as csvfile:\n",
    "     csvreader = csv.reader(csvfile, delimiter=',')\n",
    "        \n",
    "# Variables for Calculating PnL Average Change:\n",
    "PnL_Change = 0\n",
    "Previous_PnL = 0\n",
    "PnL_Change_List = []\n",
    "Month_of_Change = []\n",
    "\n",
    "\n",
    "# Calculating Average Change\n",
    "for PnL in PnLs:\n",
    "    \n",
    "    PnL_Change = float(row[1]) - Previous_PnL\n",
    "    Previous_PnL = float(row[1])\n",
    "    PnL_Change_List = PnL_Change_List + [PnL_Change]\n",
    "    Month_of_Change = [Month_of_Change] + [row[0]]\n",
    "    \n",
    "# Greatest Increase in PnL\n",
    "\n",
    "# Variables:\n",
    "PnL_Change = 0\n",
    "Greatest_Increase = [\"\", 0]\n",
    "\n",
    "#The greatest increase in revenue (date and amount) over the entire period\n",
    "if PnL_Change > Greatest_Increase[1]:\n",
    "    Greatest_Increase[1]= PnL_Change\n",
    "    Greatest_Increase[0] = row['Date']\n",
    "    \n",
    "# Print PnL_Change\n",
    "print(PnL_Change)\n",
    "# Print Greatest Increase in PnL\n",
    "print(\"Greatest Increase in PnL: \", Greatest_Increase)"
   ]
  },
  {
   "cell_type": "code",
   "execution_count": 156,
   "id": "b1ade7ce-7162-40d4-a33b-761c81acb58f",
   "metadata": {},
   "outputs": [
    {
     "name": "stdout",
     "output_type": "stream",
     "text": [
      "Greatest Increase in PnL:  ['', 0]\n"
     ]
    }
   ],
   "source": [
    "# Greatest Increase in PnL\n",
    "\n",
    "# Variables:\n",
    "PnL_Change = 0\n",
    "Greatest_Increase = [\"\", 0]\n",
    "\n",
    "# Open CSV File\n",
    "with open(csvpath, 'r') as csvfile:\n",
    "     csvreader = csv.reader(csvfile, delimiter=',')\n",
    "\n",
    "#The greatest increase in revenue (date and amount) over the entire period\n",
    "if PnL_Change > Greatest_Increase[1]:\n",
    "    Greatest_Increase[1]= PnL_Change\n",
    "    Greatest_Increase[0] = row['Date']\n",
    "    \n",
    "# Print Greatest Increase in PnL\n",
    "print(\"Greatest Increase in PnL: \", Greatest_Increase)\n"
   ]
  },
  {
   "cell_type": "code",
   "execution_count": null,
   "id": "73d1ec99-d2ce-493d-8ab3-a86d3a554fec",
   "metadata": {},
   "outputs": [],
   "source": [
    "# Greatest Decrease in PnL\n",
    "\n",
    "# Variables:\n",
    "PnL_Change = 0\n",
    "greatest_decrease = [\"\", 9999999]\n",
    "\n",
    "# Open CSV File\n",
    "with open(csvpath, 'r') as csvfile:\n",
    "     csvreader = csv.reader(csvfile, delimiter=',')\n",
    "        \n",
    "# Variables for Calculating Greatest Decrease PnL:\n",
    "        if PnL_Change < greatest_decrease[1]:\n",
    "            greatest_decrease[1]= revenue_change\n",
    "            greatest_decrease[0] = row['Date']\n",
    "    revenue_average = sum(revenue_change_list)/len(revenue_change_list)"
   ]
  },
  {
   "cell_type": "code",
   "execution_count": 162,
   "id": "120e89ee-7c80-4cac-995a-9e4cb339eb18",
   "metadata": {},
   "outputs": [],
   "source": [
    "# Initialize metric variables\n",
    "max_PnL = 0\n",
    "min_PnL = 0\n",
    "avg_PnL = 0\n",
    "total_PnL = 0\n",
    "count_PnL = 0\n",
    "\n",
    "# calculate the max, min, and average of the list of salaries\n",
    "for PnL in PnLs:\n",
    "    \n",
    "    # Sum the total and count variables\n",
    "    total_PnL += PnL\n",
    "    count_PnL += 1\n",
    "    \n",
    "        # Logic to determine min and max PnL\n",
    "    if min_PnL == 0:\n",
    "        min_PnL = PnL\n",
    "    elif PnL > max_PnL:\n",
    "            max_PnL = PnL\n",
    "    elif PnL < min_PnL:\n",
    "            min_PnL = PnL"
   ]
  },
  {
   "cell_type": "code",
   "execution_count": 161,
   "id": "c3352bab-e099-457c-a4ef-35011e5d41e3",
   "metadata": {},
   "outputs": [
    {
     "name": "stdout",
     "output_type": "stream",
     "text": [
      "Greatest Increase in PnL:  1170593\n",
      "Greatest Decrease in PnL:  -1196225\n",
      "Average Change in PnL:  446309.05\n"
     ]
    }
   ],
   "source": [
    "# Calculate the average PnL, round to the nearest 2 decimal places\n",
    "avg_PnL = round(total_PnL / count_PnL, 2)\n",
    "\n",
    "# Print the metrics\n",
    "print(\"Greatest Increase in PnL: \", max_PnL)\n",
    "print(\"Greatest Decrease in PnL: \", min_PnL)\n",
    "print(\"Average Change in PnL: \", avg_PnL)"
   ]
  },
  {
   "cell_type": "code",
   "execution_count": 172,
   "id": "6bd5f2a6-ef26-468a-994b-1426337c108d",
   "metadata": {},
   "outputs": [
    {
     "name": "stdout",
     "output_type": "stream",
     "text": [
      "['Sep-2013', -2196167.0]\n",
      "['Feb-2012', 1926159.0]\n",
      "7803.476744186047\n",
      "532869.0\n"
     ]
    }
   ],
   "source": []
  },
  {
   "cell_type": "code",
   "execution_count": 4,
   "id": "462642ef-f761-49db-a5af-10fac66e51d0",
   "metadata": {},
   "outputs": [
    {
     "ename": "NameError",
     "evalue": "name 'Total_Months' is not defined",
     "output_type": "error",
     "traceback": [
      "\u001b[1;31m---------------------------------------------------------------------------\u001b[0m",
      "\u001b[1;31mNameError\u001b[0m                                 Traceback (most recent call last)",
      "Input \u001b[1;32mIn [4]\u001b[0m, in \u001b[0;36m<cell line: 6>\u001b[1;34m()\u001b[0m\n\u001b[0;32m      7\u001b[0m file\u001b[38;5;241m.\u001b[39mwrite(\u001b[38;5;124m\"\u001b[39m\u001b[38;5;124mFinancial Analysis\u001b[39m\u001b[38;5;130;01m\\n\u001b[39;00m\u001b[38;5;124m\"\u001b[39m)\n\u001b[0;32m      8\u001b[0m file\u001b[38;5;241m.\u001b[39mwrite(\u001b[38;5;124m\"\u001b[39m\u001b[38;5;124m---------------------\u001b[39m\u001b[38;5;130;01m\\n\u001b[39;00m\u001b[38;5;124m\"\u001b[39m)\n\u001b[1;32m----> 9\u001b[0m file\u001b[38;5;241m.\u001b[39mwrite(\u001b[38;5;124m\"\u001b[39m\u001b[38;5;124mTotal Months: \u001b[39m\u001b[38;5;132;01m%d\u001b[39;00m\u001b[38;5;130;01m\\n\u001b[39;00m\u001b[38;5;124m\"\u001b[39m \u001b[38;5;241m%\u001b[39m \u001b[43mTotal_Months\u001b[49m)\n\u001b[0;32m     10\u001b[0m file\u001b[38;5;241m.\u001b[39mwrite(\u001b[38;5;124m\"\u001b[39m\u001b[38;5;124mTotal Revenue: $\u001b[39m\u001b[38;5;132;01m%d\u001b[39;00m\u001b[38;5;130;01m\\n\u001b[39;00m\u001b[38;5;124m\"\u001b[39m \u001b[38;5;241m%\u001b[39m Total_PnL)\n\u001b[0;32m     11\u001b[0m file\u001b[38;5;241m.\u001b[39mwrite(\u001b[38;5;124m\"\u001b[39m\u001b[38;5;124mAverage Revenue Change $\u001b[39m\u001b[38;5;132;01m%d\u001b[39;00m\u001b[38;5;130;01m\\n\u001b[39;00m\u001b[38;5;124m\"\u001b[39m \u001b[38;5;241m%\u001b[39m revenue_average)\n",
      "\u001b[1;31mNameError\u001b[0m: name 'Total_Months' is not defined"
     ]
    }
   ],
   "source": [
    "# Output File With Calculated Data\n",
    "\n",
    "# Output Variable\n",
    "text_path = \"output.txt\"\n",
    "\n",
    "with open(text_path, 'w') as file:\n",
    "    file.write(\"Financial Analysis\\n\")\n",
    "    file.write(\"---------------------\\n\")\n",
    "    file.write(\"Total Months: %d\\n\" % Total_Months)\n",
    "    file.write(\"Total Revenue: $%d\\n\" % Total_PnL)\n",
    "    file.write(\"Average Revenue Change $%d\\n\" % revenue_average)\n",
    "    file.write(\"Greatest Increase in Revenue: %s ($%s)\\n\" % (greatest_increase[0], greatest_increase[1]))\n",
    "    file.write(\"Greatest Decrease in Revenue: %s ($%s)\\n\" % (greatest_decrease[0], greatest_decrease[1]))\n",
    "\n"
   ]
  },
  {
   "cell_type": "code",
   "execution_count": null,
   "id": "3fa1c8e4-7c36-48b1-b1cc-08f358444702",
   "metadata": {},
   "outputs": [],
   "source": []
  }
 ],
 "metadata": {
  "kernelspec": {
   "display_name": "Python 3 (ipykernel)",
   "language": "python",
   "name": "python3"
  },
  "language_info": {
   "codemirror_mode": {
    "name": "ipython",
    "version": 3
   },
   "file_extension": ".py",
   "mimetype": "text/x-python",
   "name": "python",
   "nbconvert_exporter": "python",
   "pygments_lexer": "ipython3",
   "version": "3.9.12"
  }
 },
 "nbformat": 4,
 "nbformat_minor": 5
}
