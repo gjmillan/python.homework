{
 "cells": [
  {
   "cell_type": "code",
   "execution_count": 16,
   "id": "40ef1378-5cb7-4e26-a09c-710450a34aea",
   "metadata": {},
   "outputs": [],
   "source": [
    "# Module Challenge 2"
   ]
  },
  {
   "cell_type": "code",
   "execution_count": 18,
   "id": "072b52d5-6e89-4680-be3e-cf93d599b996",
   "metadata": {},
   "outputs": [
    {
     "data": {
      "text/plain": [
       "<_io.TextIOWrapper name='budget_data.csv' mode='r' encoding='cp1252'>"
      ]
     },
     "execution_count": 18,
     "metadata": {},
     "output_type": "execute_result"
    }
   ],
   "source": [
    "open('budget_data.csv', 'r')"
   ]
  },
  {
   "cell_type": "code",
   "execution_count": 19,
   "id": "f527e6d7-710d-4dcf-9a34-b31f4a773355",
   "metadata": {},
   "outputs": [],
   "source": [
    "# Import CSV File \n",
    "from pathlib import Path\n",
    "import csv\n",
    "\n",
    "# Set file path\n",
    "csvpath = Path('budget_data.csv')"
   ]
  },
  {
   "cell_type": "code",
   "execution_count": 20,
   "id": "6853a72c-ba35-4d15-976b-693fd7c5539c",
   "metadata": {},
   "outputs": [],
   "source": [
    "# Variable to hold PnL\n",
    "PnL = []\n",
    "\n",
    "#Line_num variable\n",
    "line_num = 0"
   ]
  },
  {
   "cell_type": "code",
   "execution_count": 21,
   "id": "a2d15654-a1fc-4963-9419-5a9aac9864d0",
   "metadata": {},
   "outputs": [
    {
     "name": "stdout",
     "output_type": "stream",
     "text": [
      "<class '_io.TextIOWrapper'>\n",
      "<class '_csv.reader'>\n"
     ]
    }
   ],
   "source": [
    "# Open the input file \n",
    "with open(csvpath, 'r') as csvfile:\n",
    "    \n",
    "    # print the data type of the file\n",
    "    print(type(csvfile))\n",
    "    \n",
    "    # Pass the csv file to the csv.reader() Function\n",
    "    # (with ',' as the delimiter/separator) and return csv reader object\n",
    "    csvreader = csv.reader(csvfile, delimiter=',')\n",
    "    \n",
    "    #print data type of the csvreader\n",
    "    print(type(csvreader))"
   ]
  },
  {
   "cell_type": "code",
   "execution_count": null,
   "id": "66c55d49-50bd-4c55-84f4-9090f45fd3b0",
   "metadata": {},
   "outputs": [],
   "source": []
  },
  {
   "cell_type": "code",
   "execution_count": null,
   "id": "28d062cc-a80e-460f-8c63-32e6cdf7b3d6",
   "metadata": {},
   "outputs": [],
   "source": []
  }
 ],
 "metadata": {
  "kernelspec": {
   "display_name": "Python 3 (ipykernel)",
   "language": "python",
   "name": "python3"
  },
  "language_info": {
   "codemirror_mode": {
    "name": "ipython",
    "version": 3
   },
   "file_extension": ".py",
   "mimetype": "text/x-python",
   "name": "python",
   "nbconvert_exporter": "python",
   "pygments_lexer": "ipython3",
   "version": "3.9.12"
  }
 },
 "nbformat": 4,
 "nbformat_minor": 5
}
