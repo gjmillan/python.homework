{
 "cells": [
  {
   "cell_type": "code",
   "execution_count": 1,
   "id": "82c1d460-a6f9-45e0-be32-93474c8e2cfa",
   "metadata": {},
   "outputs": [],
   "source": [
    "# Module Challenge 2"
   ]
  },
  {
   "cell_type": "code",
   "execution_count": 1,
   "id": "b5361574-ad04-4ede-94d3-b27a6a42e144",
   "metadata": {},
   "outputs": [],
   "source": [
    "# Import CSV File \n",
    "from pathlib import Path\n",
    "import csv\n",
    "\n",
    "# Set file path\n",
    "csvpath = Path('PyBank/Resources/budget_data.csv')"
   ]
  },
  {
   "cell_type": "code",
   "execution_count": null,
   "id": "993bb049-6019-4c06-a963-f3b3fa11d3a7",
   "metadata": {},
   "outputs": [],
   "source": [
    "# Variable to hold PnL\n",
    "PnL = []\n",
    "\n"
   ]
  }
 ],
 "metadata": {
  "kernelspec": {
   "display_name": "Python 3 (ipykernel)",
   "language": "python",
   "name": "python3"
  },
  "language_info": {
   "codemirror_mode": {
    "name": "ipython",
    "version": 3
   },
   "file_extension": ".py",
   "mimetype": "text/x-python",
   "name": "python",
   "nbconvert_exporter": "python",
   "pygments_lexer": "ipython3",
   "version": "3.9.12"
  }
 },
 "nbformat": 4,
 "nbformat_minor": 5
}
