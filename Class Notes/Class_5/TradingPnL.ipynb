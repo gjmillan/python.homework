{
 "cells": [
  {
   "cell_type": "code",
   "execution_count": 1,
   "id": "4e23af88-ba88-4095-b2ca-51651f47fe46",
   "metadata": {},
   "outputs": [],
   "source": [
    "#Initialize the metric variables\n",
    "count = 0\n",
    "total = 0\n",
    "average = 0\n",
    "minimum = 0\n",
    "maximum = 0"
   ]
  },
  {
   "cell_type": "code",
   "execution_count": 2,
   "id": "96fe3e2f-c8e3-44e9-9195-9578293e137a",
   "metadata": {},
   "outputs": [],
   "source": [
    "#Initialize lists to hold profitable and unprofitable day profit/losses\n",
    "\n"
   ]
  },
  {
   "cell_type": "code",
   "execution_count": null,
   "id": "227bc397-25c9-40d9-a978-8568d3a9b1f8",
   "metadata": {},
   "outputs": [],
   "source": [
    "# List of trading profits/losses\n",
    "trading_pnl = [ -224,  352, 252, 354, -544,\n",
    "                -650,   56, 123, -43,  254,\n",
    "                 325, -123,  47, 321,  123,\n",
    "                 133, -151, 613, 232, -311 ]"
   ]
  }
 ],
 "metadata": {
  "kernelspec": {
   "display_name": "Python 3 (ipykernel)",
   "language": "python",
   "name": "python3"
  },
  "language_info": {
   "codemirror_mode": {
    "name": "ipython",
    "version": 3
   },
   "file_extension": ".py",
   "mimetype": "text/x-python",
   "name": "python",
   "nbconvert_exporter": "python",
   "pygments_lexer": "ipython3",
   "version": "3.9.12"
  }
 },
 "nbformat": 4,
 "nbformat_minor": 5
}
