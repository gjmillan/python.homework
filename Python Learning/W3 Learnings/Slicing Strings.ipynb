{
 "cells": [
  {
   "cell_type": "code",
   "execution_count": 7,
   "id": "0e03e4f3-b25c-40fb-9ee4-4a364b8af786",
   "metadata": {},
   "outputs": [
    {
     "name": "stdout",
     "output_type": "stream",
     "text": [
      "h work\n",
      "llo\n"
     ]
    }
   ],
   "source": [
    "# Slice printing from my own example\n",
    "b = \"Tough work out at MFC\"\n",
    "print(b[4:10])\n",
    "\n",
    "# Slice printing from W3 Example\n",
    "b = \"Hello, World!\"\n",
    "print(b[2:5])"
   ]
  },
  {
   "cell_type": "code",
   "execution_count": 9,
   "id": "4bec1b34-eb54-42b7-9066-0f5281f3b488",
   "metadata": {},
   "outputs": [
    {
     "name": "stdout",
     "output_type": "stream",
     "text": [
      "I lov\n",
      "Hello\n"
     ]
    }
   ],
   "source": [
    "# Slice from start own example\n",
    "b = \"I love soccer\"\n",
    "print(b[:5])\n",
    "\n",
    "# Slice from start W3 example\n",
    "b = \"Hello, World!\"\n",
    "print(b[:5])"
   ]
  },
  {
   "cell_type": "code",
   "execution_count": 10,
   "id": "53a6dbb1-04ab-40b3-8b44-581e694dae02",
   "metadata": {},
   "outputs": [
    {
     "name": "stdout",
     "output_type": "stream",
     "text": [
      "love soccer\n",
      "llo, World!\n"
     ]
    }
   ],
   "source": [
    "# Slice to the end own example\n",
    "b = \"I love soccer\"\n",
    "print(b[2:])\n",
    "\n",
    "# Slice to the end W3 example\n",
    "b = \"Hello, World!\"\n",
    "print(b[2:])"
   ]
  },
  {
   "cell_type": "code",
   "execution_count": 21,
   "id": "c740b7bb-47d0-4161-ab60-4eb8b9302671",
   "metadata": {},
   "outputs": [
    {
     "name": "stdout",
     "output_type": "stream",
     "text": [
      "ove socce\n",
      "orl\n"
     ]
    }
   ],
   "source": [
    "# Negative indexing own example\n",
    "b = \"I love soccer\"\n",
    "print(b[-10:-1])\n",
    "\n",
    "# Negative indexing W3 example\n",
    "b = \"Hello, World!\"\n",
    "print(b[-5:-2])"
   ]
  },
  {
   "cell_type": "code",
   "execution_count": null,
   "id": "347856aa-58e5-40c6-bf59-1eeea738fa48",
   "metadata": {},
   "outputs": [],
   "source": []
  }
 ],
 "metadata": {
  "kernelspec": {
   "display_name": "Python 3 (ipykernel)",
   "language": "python",
   "name": "python3"
  },
  "language_info": {
   "codemirror_mode": {
    "name": "ipython",
    "version": 3
   },
   "file_extension": ".py",
   "mimetype": "text/x-python",
   "name": "python",
   "nbconvert_exporter": "python",
   "pygments_lexer": "ipython3",
   "version": "3.9.12"
  }
 },
 "nbformat": 4,
 "nbformat_minor": 5
}
