{
 "cells": [
  {
   "cell_type": "code",
   "execution_count": 3,
   "id": "96c1f809-4a69-4d1d-b90d-9464fdf3f171",
   "metadata": {},
   "outputs": [
    {
     "name": "stdout",
     "output_type": "stream",
     "text": [
      "b is greater than a\n",
      "d is the greatest variable\n",
      "d is:  300\n"
     ]
    }
   ],
   "source": [
    "a = 33\n",
    "b = 200\n",
    "if b > a:\n",
    "    print(\"b is greater than a\")\n",
    "    \n",
    "c = a + b\n",
    "d = c + 67\n",
    "if d > c:\n",
    "    print(\"d is the greatest variable\")\n",
    "    print(\"d is: \", d)"
   ]
  },
  {
   "cell_type": "code",
   "execution_count": 8,
   "id": "b004a42c-c654-424f-a0b9-d622585876d6",
   "metadata": {},
   "outputs": [
    {
     "name": "stdout",
     "output_type": "stream",
     "text": [
      "a is equal to b\n",
      "Liverpool Tied in today's game!\n"
     ]
    }
   ],
   "source": [
    "#Elif Example\n",
    "a = 33\n",
    "b = 33\n",
    "if a > b:\n",
    "    print(\"a is greater than b\")\n",
    "elif a == b:\n",
    "        print(\"a is equal to b\")\n",
    "        \n",
    "Liverpool = 3\n",
    "Brighton = 3\n",
    "if Liverpool > Brighton:\n",
    "    print(\"Liverpool Won!\")\n",
    "elif Liverpool == Brighton:\n",
    "    print(\"Liverpool Tied in today's game!\")"
   ]
  },
  {
   "cell_type": "code",
   "execution_count": 9,
   "id": "6b35b33d-7d13-4775-8b21-80b1925aaacd",
   "metadata": {},
   "outputs": [
    {
     "name": "stdout",
     "output_type": "stream",
     "text": [
      "a is greater than b\n",
      "Liverpool Tied!\n"
     ]
    }
   ],
   "source": [
    "# Else Example\n",
    "a = 200\n",
    "b = 33\n",
    "if b > a:\n",
    "    print(\"b is greater than a\")\n",
    "elif a == b:\n",
    "    print(\"a and b are equal\")\n",
    "else:\n",
    "    print(\"a is greater than b\")\n",
    "    \n",
    "    \n",
    "Liverpool = 3\n",
    "Brighton = 3\n",
    "if Liverpool > Brighton:\n",
    "    print(\"Liverpool Won!\")\n",
    "elif Liverpool < Brighton:\n",
    "    print (\"Liverpool Lost!\")\n",
    "else:\n",
    "    print(\"Liverpool Tied!\")\n",
    "    "
   ]
  },
  {
   "cell_type": "code",
   "execution_count": 16,
   "id": "801c5381-1551-45ad-9dea-fa102b64e914",
   "metadata": {},
   "outputs": [
    {
     "name": "stdout",
     "output_type": "stream",
     "text": [
      "Both conditions are true\n",
      "Both Arsenal and Real Madrid won this weekend!\n"
     ]
    }
   ],
   "source": [
    "# Using AND logical operator\n",
    "a = 200\n",
    "b = 33\n",
    "c = 500\n",
    "if a > b and c > a:\n",
    "    print(\"Both conditions are true\")\n",
    "    \n",
    "Arsenal = 3\n",
    "Tottenham = 1\n",
    "Real_Madrid = 3\n",
    "Osasuna = 0\n",
    "if Arsenal > Tottenham and Real_Madrid > Osasuna:\n",
    "    print(\"Both Arsenal and Real Madrid won this weekend!\")"
   ]
  },
  {
   "cell_type": "code",
   "execution_count": 19,
   "id": "f2d0a08e-6ab1-4faf-8b90-d1546c5c4af2",
   "metadata": {},
   "outputs": [
    {
     "name": "stdout",
     "output_type": "stream",
     "text": [
      "At least one of the conditions is true\n",
      "At least Arsenal or Real Madrid won\n"
     ]
    }
   ],
   "source": [
    "# Using OR logical operator\n",
    "a = 200\n",
    "b = 33\n",
    "c = 500\n",
    "if a > b or a > c:\n",
    "    print(\"At least one of the conditions is true\")\n",
    "    \n",
    "Arsenal = 3\n",
    "Tottenham = 1\n",
    "Real_Madrid = 3\n",
    "Osasuna = 0\n",
    "if Arsenal > Tottenham or Real_Madrid > Osasuna:\n",
    "    print(\"At least Arsenal or Real Madrid won\")"
   ]
  },
  {
   "cell_type": "code",
   "execution_count": 25,
   "id": "ad4d2390-1aa5-4a94-91ca-cfe6eaa5557f",
   "metadata": {},
   "outputs": [
    {
     "name": "stdout",
     "output_type": "stream",
     "text": [
      "x is greater than 10\n",
      "x is greater than 20\n",
      "Arselnal Won!\n",
      "Real Madrid Won!\n"
     ]
    }
   ],
   "source": [
    "# Nested if example\n",
    "x = 40\n",
    "if x > 10:\n",
    "    print(\"x is greater than 10\")\n",
    "    if x > 20:\n",
    "          print(\"x is greater than 20\")\n",
    "    else:\n",
    "            print(\"but not above 20\")\n",
    "            \n",
    "Arsenal = 3\n",
    "Tottenham = 1\n",
    "Real_Madrid = 3\n",
    "Osasuna = 0          \n",
    "if Arsenal > Tottenham:\n",
    "    print(\"Arselnal Won!\")\n",
    "    if Real_Madrid > Osasuna:\n",
    "        print(\"Real Madrid Won!\")\n",
    "    else:\n",
    "        print(\"Neither Arsenal nor Madrid won\")"
   ]
  },
  {
   "cell_type": "code",
   "execution_count": null,
   "id": "6c0e086c-cd9d-42b1-9ed1-99f27c30a972",
   "metadata": {},
   "outputs": [],
   "source": []
  }
 ],
 "metadata": {
  "kernelspec": {
   "display_name": "Python 3 (ipykernel)",
   "language": "python",
   "name": "python3"
  },
  "language_info": {
   "codemirror_mode": {
    "name": "ipython",
    "version": 3
   },
   "file_extension": ".py",
   "mimetype": "text/x-python",
   "name": "python",
   "nbconvert_exporter": "python",
   "pygments_lexer": "ipython3",
   "version": "3.9.12"
  }
 },
 "nbformat": 4,
 "nbformat_minor": 5
}
