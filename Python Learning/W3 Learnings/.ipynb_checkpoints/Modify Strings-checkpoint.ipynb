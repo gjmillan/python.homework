{
 "cells": [
  {
   "cell_type": "code",
   "execution_count": 1,
   "id": "0cd49289-eaed-483e-8536-928d103182f2",
   "metadata": {},
   "outputs": [
    {
     "name": "stdout",
     "output_type": "stream",
     "text": [
      "HELLO, WORLD!\n",
      "I LOVE SOCCER!\n"
     ]
    }
   ],
   "source": [
    "# Upper Case\n",
    "a = \"Hello, World!\"\n",
    "print(a.upper())\n",
    "b = \"i love soccer!\"\n",
    "print(b.upper())"
   ]
  },
  {
   "cell_type": "code",
   "execution_count": 2,
   "id": "13328c10-cc0f-480f-9886-eb8dd518eec5",
   "metadata": {},
   "outputs": [
    {
     "name": "stdout",
     "output_type": "stream",
     "text": [
      "hello, world!\n",
      "i love soccer!\n"
     ]
    }
   ],
   "source": [
    "# Lower Case\n",
    "a = \"Hello, World!\"\n",
    "print(a.lower())\n",
    "b = \"I LOVE SOCCER!\"\n",
    "print(b.lower())"
   ]
  },
  {
   "cell_type": "code",
   "execution_count": 3,
   "id": "784e1403-b522-4afc-9c5f-82e407784dee",
   "metadata": {},
   "outputs": [
    {
     "name": "stdout",
     "output_type": "stream",
     "text": [
      "Hello, World!\n",
      "i love soccer!\n"
     ]
    }
   ],
   "source": [
    "# Remove Whitespace\n",
    "a = \" Hello, World! \"\n",
    "print(a.strip())\n",
    "b = \" i love soccer! \"\n",
    "print(b.strip())"
   ]
  },
  {
   "cell_type": "code",
   "execution_count": 5,
   "id": "963e9c53-cfe1-45c3-8d95-492cf894ffa7",
   "metadata": {},
   "outputs": [
    {
     "name": "stdout",
     "output_type": "stream",
     "text": [
      "Jello, World!\n",
      "Yo amo el futbol!\n"
     ]
    }
   ],
   "source": [
    "# Replace String\n",
    "a = \"Hello, World!\"\n",
    "print(a.replace(\"H\", \"J\"))\n",
    "\n",
    "b = \"i love soccer!\"\n",
    "print(b.replace(\"i love soccer!\", \"Yo amo el futbol!\"))"
   ]
  },
  {
   "cell_type": "code",
   "execution_count": 6,
   "id": "82b7f1ef-6cd1-4e57-89b1-06aa2901fbf1",
   "metadata": {},
   "outputs": [
    {
     "name": "stdout",
     "output_type": "stream",
     "text": [
      "['Hello', ' World!']\n",
      "['i', 'love', 'soccer!']\n"
     ]
    }
   ],
   "source": [
    "# Split String\n",
    "a = \"Hello, World!\"\n",
    "print(a.split(\",\"))\n",
    "\n",
    "b = \"i love soccer!\"\n",
    "print(b.split(\" \"))"
   ]
  },
  {
   "cell_type": "code",
   "execution_count": 16,
   "id": "62565df4-113a-4da4-861a-7e3d546e844f",
   "metadata": {},
   "outputs": [
    {
     "name": "stdout",
     "output_type": "stream",
     "text": [
      "HelloWorld!\n",
      "ILoveSoccer!\n"
     ]
    }
   ],
   "source": [
    "# String Concatenation\n",
    "a = \"Hello\"\n",
    "b = \"World!\"\n",
    "c = a+b\n",
    "print(c)\n",
    "\n",
    "a = \"I\"\n",
    "b = \"Love\"\n",
    "c = \"Soccer!\"\n",
    "d = (a+b+c)\n",
    "print(d)"
   ]
  },
  {
   "cell_type": "code",
   "execution_count": 17,
   "id": "a1aaf280-28d4-42c4-bbb8-9c8b7fe01bb6",
   "metadata": {},
   "outputs": [
    {
     "name": "stdout",
     "output_type": "stream",
     "text": [
      "Hello World!\n",
      "I Love Soccer!\n"
     ]
    }
   ],
   "source": [
    "# Adding space in string\n",
    "a = \"Hello\"\n",
    "b = \"World!\"\n",
    "c = a+\" \"+b\n",
    "print(c)\n",
    "\n",
    "a = \"I\"\n",
    "b = \"Love\"\n",
    "c = \"Soccer!\"\n",
    "d = (a+\" \"+b+\" \"+c)\n",
    "print(d)"
   ]
  },
  {
   "cell_type": "code",
   "execution_count": 20,
   "id": "1c37280d-8410-4fa4-850d-12f997de02de",
   "metadata": {},
   "outputs": [
    {
     "name": "stdout",
     "output_type": "stream",
     "text": [
      "My name is John, and I am 36\n",
      "Gabriel scored 3 goals\n"
     ]
    }
   ],
   "source": [
    "# Formatting Strings\n",
    "age = 36\n",
    "txt = \"My name is John, and I am {}\"\n",
    "print(txt.format(age))\n",
    "\n",
    "Goals = 3\n",
    "txt = \"Gabriel scored {} goals\"\n",
    "print(txt.format(Goals))"
   ]
  },
  {
   "cell_type": "code",
   "execution_count": 22,
   "id": "859d7db3-0ce5-4c01-aac8-e66cd2ecdb66",
   "metadata": {},
   "outputs": [
    {
     "name": "stdout",
     "output_type": "stream",
     "text": [
      "I want 3 pieces of item 567 for 49.95 dollars.\n",
      "Gabriel soocer game stats were 3 goals scored, 1 assist, and 90 minutes played\n"
     ]
    }
   ],
   "source": [
    "# Formatting Strings - unlimited arguments\n",
    "quantity = 3\n",
    "itemno = 567\n",
    "price = 49.95\n",
    "myorder = \"I want {} pieces of item {} for {} dollars.\"\n",
    "print(myorder.format(quantity, itemno, price))\n",
    "\n",
    "goals = 3\n",
    "assist = 1\n",
    "minutes = 90\n",
    "soccer_stats=\"Gabriel soocer game stats were {} goals scored, {} assist, and {} minutes played\"\n",
    "\n",
    "print(soccer_stats.format(goals, assist, minutes))"
   ]
  },
  {
   "cell_type": "code",
   "execution_count": 23,
   "id": "dc0a8cf1-65f0-4b9a-8969-1d778a1fe26d",
   "metadata": {},
   "outputs": [
    {
     "name": "stdout",
     "output_type": "stream",
     "text": [
      "I want to pay 49.95 dollars for 3 pieces of item 567.\n",
      "I want to play a total of 90 minutes and score 3 goals and have 1 assist\n"
     ]
    }
   ],
   "source": [
    "# Formatting Strings - Using Index Numbers\n",
    "quantity = 3\n",
    "itemno = 567\n",
    "price = 49.95\n",
    "myorder = \"I want to pay {2} dollars for {0} pieces of item {1}.\"\n",
    "print(myorder.format(quantity, itemno, price))\n",
    "\n",
    "goals = 3\n",
    "assist = 1\n",
    "minutes = 90\n",
    "soccer_stats=\"I want to play a total of {2} minutes and score {0} goals and have {1} assist\"\n",
    "\n",
    "print(soccer_stats.format(goals, assist, minutes))"
   ]
  },
  {
   "cell_type": "code",
   "execution_count": null,
   "id": "decaadf2-a24a-4396-8501-7b5c3618d2e4",
   "metadata": {},
   "outputs": [],
   "source": []
  }
 ],
 "metadata": {
  "kernelspec": {
   "display_name": "Python 3 (ipykernel)",
   "language": "python",
   "name": "python3"
  },
  "language_info": {
   "codemirror_mode": {
    "name": "ipython",
    "version": 3
   },
   "file_extension": ".py",
   "mimetype": "text/x-python",
   "name": "python",
   "nbconvert_exporter": "python",
   "pygments_lexer": "ipython3",
   "version": "3.9.12"
  }
 },
 "nbformat": 4,
 "nbformat_minor": 5
}
