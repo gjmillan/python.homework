{
 "cells": [
  {
   "cell_type": "code",
   "execution_count": 6,
   "id": "1f403525-e159-496e-93dc-c7d481974b34",
   "metadata": {},
   "outputs": [
    {
     "name": "stdout",
     "output_type": "stream",
     "text": [
      "1 2 3\n"
     ]
    }
   ],
   "source": [
    "x = int(1)   # x will be 1\n",
    "y = int(2.8) # y will be 2\n",
    "z = int(\"3\") # z will be 3\n",
    "print(x, y, z)"
   ]
  },
  {
   "cell_type": "code",
   "execution_count": 8,
   "id": "a5d85e09-9083-4e4d-a910-dcebf7968ade",
   "metadata": {},
   "outputs": [
    {
     "name": "stdout",
     "output_type": "stream",
     "text": [
      "1.0 2.8 3.0 4.2\n"
     ]
    }
   ],
   "source": [
    "x = float(1)     # x will be 1.0\n",
    "y = float(2.8)   # y will be 2.8\n",
    "z = float(\"3\")   # z will be 3.0\n",
    "w = float(\"4.2\") # w will be 4.2\n",
    "print(x, y, z, w)"
   ]
  },
  {
   "cell_type": "code",
   "execution_count": 10,
   "id": "3d12b1da-42e3-4995-80ea-9070a3844335",
   "metadata": {},
   "outputs": [
    {
     "name": "stdout",
     "output_type": "stream",
     "text": [
      "s1 2 3.0\n"
     ]
    }
   ],
   "source": [
    "x = str(\"s1\") # x will be 's1'\n",
    "y = str(2)    # y will be '2'\n",
    "z = str(3.0)  # z will be '3.0'\n",
    "print(x, y, z)"
   ]
  },
  {
   "cell_type": "code",
   "execution_count": 13,
   "id": "c711238d-be68-445d-a46d-474e16c8fcab",
   "metadata": {},
   "outputs": [
    {
     "name": "stdout",
     "output_type": "stream",
     "text": [
      "Hello World\n"
     ]
    }
   ],
   "source": [
    "a = \"Hello \"\n",
    "b = 'World'\n",
    "print(a + b) "
   ]
  },
  {
   "cell_type": "code",
   "execution_count": 17,
   "id": "acb2129d-3159-44b8-9132-0b7973319d2d",
   "metadata": {},
   "outputs": [
    {
     "name": "stdout",
     "output_type": "stream",
     "text": [
      "Este mensaje esta escrito en espanol para las personas bilingues\n",
      "Por favor leer los siguientes pasos\n",
      "Asi que si sabes hablar el espanol, por favor responde las siguientes preguntas\n",
      "cual es tu nombre\n",
      "cual es tu apellido\n",
      "fecha de nacimiento \n"
     ]
    }
   ],
   "source": [
    "a = '''Este mensaje esta escrito en espanol para las personas bilingues\n",
    "Por favor leer los siguientes pasos'''\n",
    "print(a)\n",
    "\n",
    "b = \"\"\"Asi que si sabes hablar el espanol, por favor responde las siguientes preguntas\n",
    "cual es tu nombre\n",
    "cual es tu apellido\n",
    "fecha de nacimiento \"\"\"\n",
    "print(b)"
   ]
  },
  {
   "cell_type": "code",
   "execution_count": 30,
   "id": "0ff42583-0846-4578-90f3-f325f99bb48c",
   "metadata": {},
   "outputs": [
    {
     "name": "stdout",
     "output_type": "stream",
     "text": [
      "H\n",
      "e\n",
      ",\n",
      " \n"
     ]
    }
   ],
   "source": [
    "a = \"Hello, World!\"\n",
    "print(a[0])\n",
    "print(a[1])\n",
    "print(a[5])\n",
    "print(a[6])"
   ]
  },
  {
   "cell_type": "code",
   "execution_count": 31,
   "id": "11b6ef9b-2e72-4e0c-a4cd-00ab24c3f4a3",
   "metadata": {},
   "outputs": [
    {
     "name": "stdout",
     "output_type": "stream",
     "text": [
      "b\n",
      "a\n",
      "n\n",
      "a\n",
      "n\n",
      "a\n"
     ]
    }
   ],
   "source": [
    "for x in \"banana\":\n",
    "  print(x)"
   ]
  },
  {
   "cell_type": "code",
   "execution_count": 32,
   "id": "a5ef710d-dbd1-4ca4-904b-422dab9e69ad",
   "metadata": {},
   "outputs": [
    {
     "name": "stdout",
     "output_type": "stream",
     "text": [
      "13\n"
     ]
    }
   ],
   "source": [
    "a = \"Hello, World!\"\n",
    "print(len(a))"
   ]
  },
  {
   "cell_type": "code",
   "execution_count": 33,
   "id": "5887ba0f-31ca-4b64-8940-11658c5c98ef",
   "metadata": {},
   "outputs": [
    {
     "name": "stdout",
     "output_type": "stream",
     "text": [
      "True\n"
     ]
    }
   ],
   "source": [
    "txt = \"The best things in life are free!\"\n",
    "print(\"free\" in txt)"
   ]
  },
  {
   "cell_type": "code",
   "execution_count": 35,
   "id": "82acce80-6471-47e5-af04-481311f2fa50",
   "metadata": {},
   "outputs": [
    {
     "name": "stdout",
     "output_type": "stream",
     "text": [
      "True\n",
      "False\n"
     ]
    }
   ],
   "source": [
    "a = '''Este mensaje esta escrito en espanol para las personas bilingues\n",
    "Por favor leer los siguientes pasos'''\n",
    "print(\"espanol\" in a)\n",
    "print(\"ingles\" in a)"
   ]
  },
  {
   "cell_type": "code",
   "execution_count": 36,
   "id": "608d09c8-186b-47ec-bf9e-f373506aa1bd",
   "metadata": {},
   "outputs": [
    {
     "name": "stdout",
     "output_type": "stream",
     "text": [
      "Yes, 'free' is present.\n"
     ]
    }
   ],
   "source": [
    "txt = \"The best things in life are free!\"\n",
    "if \"free\" in txt:\n",
    "  print(\"Yes, 'free' is present.\")"
   ]
  },
  {
   "cell_type": "code",
   "execution_count": 49,
   "id": "189a369c-432f-48c0-9fa4-eeec8e308713",
   "metadata": {},
   "outputs": [
    {
     "name": "stdout",
     "output_type": "stream",
     "text": [
      "Yes, 'espanol' is present\n"
     ]
    }
   ],
   "source": [
    "txt = \"\"\"Asi que si sabes hablar el espanol, por favor responde las siguientes preguntas\n",
    "cual es tu nombre\n",
    "cual es tu apellido\n",
    "fecha de nacimiento \"\"\"\n",
    "if \"espanol\" in b:\n",
    "    print(\"Yes, 'espanol' is present\")"
   ]
  },
  {
   "cell_type": "code",
   "execution_count": 52,
   "id": "a90a0d19-5a77-4002-84ad-2eb6ba65642f",
   "metadata": {},
   "outputs": [
    {
     "name": "stdout",
     "output_type": "stream",
     "text": [
      "True\n",
      "False\n"
     ]
    }
   ],
   "source": [
    "txt = \"The best things in life are free!\"\n",
    "print(\"expensive\" not in txt)\n",
    "print(\"free\" not in txt)"
   ]
  },
  {
   "cell_type": "code",
   "execution_count": 53,
   "id": "08c42840-e107-4a12-a608-11ffef0edd91",
   "metadata": {},
   "outputs": [
    {
     "name": "stdout",
     "output_type": "stream",
     "text": [
      "No, 'expensive' is NOT present.\n"
     ]
    }
   ],
   "source": [
    "txt = \"The best things in life are free!\"\n",
    "if \"expensive\" not in txt:\n",
    "  print(\"No, 'expensive' is NOT present.\")"
   ]
  },
  {
   "cell_type": "code",
   "execution_count": null,
   "id": "2772971e-4130-4424-a723-fc16738743ec",
   "metadata": {},
   "outputs": [],
   "source": []
  }
 ],
 "metadata": {
  "kernelspec": {
   "display_name": "Python 3 (ipykernel)",
   "language": "python",
   "name": "python3"
  },
  "language_info": {
   "codemirror_mode": {
    "name": "ipython",
    "version": 3
   },
   "file_extension": ".py",
   "mimetype": "text/x-python",
   "name": "python",
   "nbconvert_exporter": "python",
   "pygments_lexer": "ipython3",
   "version": "3.9.12"
  }
 },
 "nbformat": 4,
 "nbformat_minor": 5
}
