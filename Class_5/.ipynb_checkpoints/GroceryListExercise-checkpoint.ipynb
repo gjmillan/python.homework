{
 "cells": [
  {
   "cell_type": "code",
   "execution_count": 9,
   "id": "2d540345-3e98-456b-868d-5db833f51163",
   "metadata": {},
   "outputs": [
    {
     "name": "stdout",
     "output_type": "stream",
     "text": [
      "Creating list of groceries\n",
      "['Water', 'Butter', 'Eggs', 'Apple', 'Cinnamon', 'Sugar', 'Milk']\n"
     ]
    }
   ],
   "source": [
    "# Create list of groceries\n",
    "\n",
    "print(\"Creating list of groceries\")\n",
    "groceries = [\"Water\", \"Butter\", \"Eggs\", \"Apple\", \"Cinnamon\", \"Sugar\", \"Milk\"]\n",
    "print (groceries)"
   ]
  },
  {
   "cell_type": "code",
   "execution_count": 10,
   "id": "f282aebc-0e40-4b0c-b119-15d07d91b8bf",
   "metadata": {},
   "outputs": [
    {
     "name": "stdout",
     "output_type": "stream",
     "text": [
      "Water\n",
      "Butter\n"
     ]
    }
   ],
   "source": [
    "#Find the first two items on the list\n",
    "print(groceries[0])\n",
    "print(groceries[1])"
   ]
  },
  {
   "cell_type": "code",
   "execution_count": 17,
   "id": "8680491c-a88c-41b9-9c2b-b3619ccb5997",
   "metadata": {},
   "outputs": [
    {
     "name": "stdout",
     "output_type": "stream",
     "text": [
      "['Eggs', 'Apple', 'Cinnamon', 'Sugar', 'Milk']\n"
     ]
    }
   ],
   "source": [
    "#Find the last five items on the list\n",
    "print(groceries[2:])"
   ]
  },
  {
   "cell_type": "code",
   "execution_count": 16,
   "id": "76d8c664-412a-4ca2-a3a5-01fffacf6dac",
   "metadata": {},
   "outputs": [
    {
     "name": "stdout",
     "output_type": "stream",
     "text": [
      "['Butter', 'Apple', 'Sugar']\n"
     ]
    }
   ],
   "source": [
    "#Find every other item on the list, starting from the second item\n",
    "print(groceries[1::2])"
   ]
  },
  {
   "cell_type": "code",
   "execution_count": 20,
   "id": "d98c4df7-4013-4c2d-94be-0d8a08cd3fd5",
   "metadata": {},
   "outputs": [
    {
     "name": "stdout",
     "output_type": "stream",
     "text": [
      "Oops, forgot to add flour\n",
      "['Water', 'Butter', 'Eggs', 'Apple', 'Cinnamon', 'Sugar', 'Milk', 'flour', 'flour']\n"
     ]
    }
   ],
   "source": [
    "#Add an element to the end of the list\n",
    "print(\"Oops, forgot to add flour\")\n",
    "groceries.append(\"Flour\")\n",
    "print(groceries)"
   ]
  },
  {
   "cell_type": "code",
   "execution_count": null,
   "id": "a03a16ab-a109-44ff-8a6a-2396360b18e5",
   "metadata": {},
   "outputs": [],
   "source": []
  }
 ],
 "metadata": {
  "kernelspec": {
   "display_name": "Python 3 (ipykernel)",
   "language": "python",
   "name": "python3"
  },
  "language_info": {
   "codemirror_mode": {
    "name": "ipython",
    "version": 3
   },
   "file_extension": ".py",
   "mimetype": "text/x-python",
   "name": "python",
   "nbconvert_exporter": "python",
   "pygments_lexer": "ipython3",
   "version": "3.9.12"
  }
 },
 "nbformat": 4,
 "nbformat_minor": 5
}
