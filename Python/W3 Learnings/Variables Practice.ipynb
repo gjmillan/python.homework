{
 "cells": [
  {
   "cell_type": "code",
   "execution_count": 4,
   "id": "a4fe0244-605b-4d03-82b3-0eecf1d0ae9d",
   "metadata": {},
   "outputs": [
    {
     "name": "stdout",
     "output_type": "stream",
     "text": [
      "Orange\n",
      "Banana\n",
      "Cherry\n"
     ]
    }
   ],
   "source": [
    "x , y, z = \"Orange\", \"Banana\", \"Cherry\"\n",
    "print (x)\n",
    "print (y)\n",
    "print (z)"
   ]
  },
  {
   "cell_type": "code",
   "execution_count": 5,
   "id": "2399d86b-ccb2-45f6-b483-4efb766f6990",
   "metadata": {},
   "outputs": [
    {
     "name": "stdout",
     "output_type": "stream",
     "text": [
      "Cherry\n",
      "Orange\n",
      "Banana\n"
     ]
    }
   ],
   "source": [
    "y , z, x = \"Orange\", \"Banana\", \"Cherry\"\n",
    "print (x)\n",
    "print (y)\n",
    "print (z)"
   ]
  },
  {
   "cell_type": "code",
   "execution_count": 8,
   "id": "9abeac15-b4d4-404b-9479-899ef3c7d30f",
   "metadata": {},
   "outputs": [
    {
     "name": "stdout",
     "output_type": "stream",
     "text": [
      "Orange\n",
      "Orange\n",
      "Orange\n"
     ]
    }
   ],
   "source": [
    "y = z = x = \"Orange\"\n",
    "print (y)\n",
    "print (z)\n",
    "print (x)"
   ]
  },
  {
   "cell_type": "code",
   "execution_count": 11,
   "id": "97103cac-96c5-4af6-ab9e-9ec827b6237a",
   "metadata": {},
   "outputs": [
    {
     "name": "stdout",
     "output_type": "stream",
     "text": [
      "Apples\n",
      "Bananas\n",
      "Cherry\n"
     ]
    }
   ],
   "source": [
    "Groceries = [\"Apples\", \"Bananas\", \"Cherry\"]\n",
    "x, y, z, = Groceries\n",
    "print(x)\n",
    "print(y)\n",
    "print(z)"
   ]
  },
  {
   "cell_type": "code",
   "execution_count": 27,
   "id": "ccf81178-143e-4ccf-8046-e51b1d442a06",
   "metadata": {},
   "outputs": [
    {
     "name": "stdout",
     "output_type": "stream",
     "text": [
      "Python  is  Awesome\n",
      "Python is Awesome\n"
     ]
    }
   ],
   "source": [
    "x = \"Python \"\n",
    "y = \"is \"\n",
    "z = \"Awesome\"\n",
    "print(x, y, z)\n",
    "print(x + y + z)"
   ]
  },
  {
   "cell_type": "code",
   "execution_count": 19,
   "id": "a9c5e2d1-8ca9-4e47-bf76-c9c2f938529d",
   "metadata": {},
   "outputs": [
    {
     "name": "stdout",
     "output_type": "stream",
     "text": [
      "15\n"
     ]
    }
   ],
   "source": [
    "x = 5\n",
    "y = 10\n",
    "print (x + y)"
   ]
  },
  {
   "cell_type": "code",
   "execution_count": 3,
   "id": "76f77f7b-04b8-4c2c-a637-7678e3ca0cd3",
   "metadata": {},
   "outputs": [
    {
     "ename": "TypeError",
     "evalue": "unsupported operand type(s) for +: 'int' and 'str'",
     "output_type": "error",
     "traceback": [
      "\u001b[1;31m---------------------------------------------------------------------------\u001b[0m",
      "\u001b[1;31mTypeError\u001b[0m                                 Traceback (most recent call last)",
      "Input \u001b[1;32mIn [3]\u001b[0m, in \u001b[0;36m<cell line: 3>\u001b[1;34m()\u001b[0m\n\u001b[0;32m      1\u001b[0m x \u001b[38;5;241m=\u001b[39m \u001b[38;5;241m5\u001b[39m\n\u001b[0;32m      2\u001b[0m y \u001b[38;5;241m=\u001b[39m \u001b[38;5;124m\"\u001b[39m\u001b[38;5;124mJohn \u001b[39m\u001b[38;5;124m\"\u001b[39m\n\u001b[1;32m----> 3\u001b[0m \u001b[38;5;28mprint\u001b[39m(\u001b[43mx\u001b[49m\u001b[43m \u001b[49m\u001b[38;5;241;43m+\u001b[39;49m\u001b[43m \u001b[49m\u001b[43my\u001b[49m)\n",
      "\u001b[1;31mTypeError\u001b[0m: unsupported operand type(s) for +: 'int' and 'str'"
     ]
    }
   ],
   "source": [
    "x = 5\n",
    "y = \"John \"\n",
    "print(x + y)"
   ]
  },
  {
   "cell_type": "code",
   "execution_count": 22,
   "id": "f6771f8f-4209-44fe-a02e-c377f51d8929",
   "metadata": {},
   "outputs": [
    {
     "name": "stdout",
     "output_type": "stream",
     "text": [
      "5 John \n"
     ]
    }
   ],
   "source": [
    "x = 5\n",
    "y = \"John \"\n",
    "print (x, y)"
   ]
  },
  {
   "cell_type": "code",
   "execution_count": 27,
   "id": "c1ad9fea-a768-4bad-8a7f-9821b7381de4",
   "metadata": {},
   "outputs": [
    {
     "name": "stdout",
     "output_type": "stream",
     "text": [
      "Python is awesome\n"
     ]
    }
   ],
   "source": [
    "x = \"awesome\"\n",
    "\n",
    "def myfunc():\n",
    "    print(\"Python is \" + x)\n",
    "    \n",
    "myfunc()"
   ]
  },
  {
   "cell_type": "code",
   "execution_count": 29,
   "id": "d02a4492-9a55-4c2f-85a8-c46d7da833ed",
   "metadata": {},
   "outputs": [
    {
     "name": "stdout",
     "output_type": "stream",
     "text": [
      "python is fantastic\n",
      "Python is awesome\n"
     ]
    }
   ],
   "source": [
    "x = \"awesome\"\n",
    "\n",
    "def myfunc():\n",
    "    x = \"fantastic\"\n",
    "    print(\"python is \" + x)\n",
    "    \n",
    "myfunc()\n",
    "\n",
    "print (\"Python is \" + x)"
   ]
  },
  {
   "cell_type": "code",
   "execution_count": 10,
   "id": "984354d9-eec7-4fee-926d-8ff328ed6c03",
   "metadata": {},
   "outputs": [
    {
     "name": "stdout",
     "output_type": "stream",
     "text": [
      "3 Gabriel\n"
     ]
    }
   ],
   "source": [
    "x = 3\n",
    "y = \"Gabriel\"\n",
    "print(x, y)"
   ]
  },
  {
   "cell_type": "code",
   "execution_count": 12,
   "id": "f7a58379-7c97-4d7b-92c9-595e1fbba72f",
   "metadata": {},
   "outputs": [
    {
     "name": "stdout",
     "output_type": "stream",
     "text": [
      "2 3 4\n",
      "4 3 2\n"
     ]
    }
   ],
   "source": [
    "(x, y, z) = (2, 3, 4)\n",
    "print(x, y, z)\n",
    "print(z, y, x)"
   ]
  },
  {
   "cell_type": "code",
   "execution_count": 14,
   "id": "6d8a4351-21ae-482c-8d8a-fb9524b5d630",
   "metadata": {},
   "outputs": [
    {
     "name": "stdout",
     "output_type": "stream",
     "text": [
      "Red\n",
      "Orange\n",
      "Green\n"
     ]
    }
   ],
   "source": [
    "x, y, z = (\"Red\", \"Orange\", \"Green\")\n",
    "print(x)\n",
    "print(y)\n",
    "print(z)"
   ]
  },
  {
   "cell_type": "code",
   "execution_count": 16,
   "id": "a140f5bf-9782-4dfb-bd75-fe3cc6515b8d",
   "metadata": {},
   "outputs": [
    {
     "name": "stdout",
     "output_type": "stream",
     "text": [
      "Orange Green Red\n"
     ]
    }
   ],
   "source": [
    "z, x, y = (\"Red\", \"Orange\", \"Green\")\n",
    "print(x, y, z)"
   ]
  },
  {
   "cell_type": "code",
   "execution_count": 20,
   "id": "30e4ea3b-8781-4053-beaa-8cd15fbd0c5d",
   "metadata": {},
   "outputs": [
    {
     "name": "stdout",
     "output_type": "stream",
     "text": [
      "15\n",
      "15\n",
      "15\n"
     ]
    }
   ],
   "source": [
    "a = b = c = 15\n",
    "print(a)\n",
    "print(b)\n",
    "print(c)"
   ]
  },
  {
   "cell_type": "code",
   "execution_count": 21,
   "id": "6ca3f14c-e54f-48b0-a06e-8c55f5c43a97",
   "metadata": {},
   "outputs": [
    {
     "name": "stdout",
     "output_type": "stream",
     "text": [
      "('Apples', 'Bananas', 'Oranges')\n"
     ]
    }
   ],
   "source": [
    "Groceries = (\"Apples\", \"Bananas\", \"Oranges\")\n",
    "print(Groceries)"
   ]
  },
  {
   "cell_type": "code",
   "execution_count": 24,
   "id": "fe77b189-dbf8-4900-9fc7-60a0461dd4f1",
   "metadata": {},
   "outputs": [
    {
     "name": "stdout",
     "output_type": "stream",
     "text": [
      "Apples\n",
      "Apples Bananas Oranges\n"
     ]
    }
   ],
   "source": [
    "x, y, z = Groceries\n",
    "print(x)\n",
    "print(x, y, z)"
   ]
  },
  {
   "cell_type": "code",
   "execution_count": 28,
   "id": "c8d57322-ced3-4ba1-8b40-cfdf5f839120",
   "metadata": {},
   "outputs": [
    {
     "name": "stdout",
     "output_type": "stream",
     "text": [
      "fantastic\n"
     ]
    }
   ],
   "source": [
    "def myfunc():\n",
    "    global x\n",
    "    x = \"fantastic\"\n",
    "    \n",
    "myfunc()\n",
    "\n",
    "print(x)"
   ]
  },
  {
   "cell_type": "code",
   "execution_count": null,
   "id": "c8197eb2-14a7-49ab-9ed6-156a20194560",
   "metadata": {},
   "outputs": [],
   "source": []
  }
 ],
 "metadata": {
  "kernelspec": {
   "display_name": "Python 3 (ipykernel)",
   "language": "python",
   "name": "python3"
  },
  "language_info": {
   "codemirror_mode": {
    "name": "ipython",
    "version": 3
   },
   "file_extension": ".py",
   "mimetype": "text/x-python",
   "name": "python",
   "nbconvert_exporter": "python",
   "pygments_lexer": "ipython3",
   "version": "3.9.12"
  }
 },
 "nbformat": 4,
 "nbformat_minor": 5
}
